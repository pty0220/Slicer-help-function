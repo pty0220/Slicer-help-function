{
 "cells": [
  {
   "cell_type": "code",
   "execution_count": 14,
   "metadata": {},
   "outputs": [],
   "source": [
    "import glob\n",
    "import os\n",
    "import time \n",
    "import numpy as np\n",
    "\n",
    "\n",
    "import cv2\n",
    "from scipy import ndimage\n",
    "\n",
    "import slicer\n",
    "import Elastix\n",
    "import JupyterNotebooksLib as slicernb\n",
    "\n",
    "import sitkUtils as su\n",
    "import SimpleITK as sitk\n"
   ]
  },
  {
   "cell_type": "code",
   "execution_count": 15,
   "metadata": {},
   "outputs": [],
   "source": [
    "root_dir = 'E:\\\\Test_data_set'\n",
    "mni_path = 'C:\\\\Users\\\\User\\\\AppData\\\\Local\\\\NA-MIC\\\\Slicer 4.11.20200930\\\\mni_icbm152_t1_tal_nlin_asym_09a.nii'"
   ]
  },
  {
   "cell_type": "code",
   "execution_count": 16,
   "metadata": {},
   "outputs": [],
   "source": [
    "sub_path_list = sorted(glob.glob(root_dir)) "
   ]
  },
  {
   "cell_type": "code",
   "execution_count": 17,
   "metadata": {},
   "outputs": [
    {
     "data": {
      "text/plain": [
       "['E:\\\\Test_data_set']"
      ]
     },
     "execution_count": 17,
     "metadata": {},
     "output_type": "execute_result"
    }
   ],
   "source": [
    "sub_path_list"
   ]
  },
  {
   "cell_type": "code",
   "execution_count": 18,
   "metadata": {},
   "outputs": [],
   "source": [
    "def load_nii(path):\n",
    "    \"\"\"Load dicom files to sitk image\"\"\"\n",
    "    reader = sitk.ImageFileReader()\n",
    "    reader.SetImageIO(\"NiftiImageIO\")\n",
    "    reader.SetFileName(path)\n",
    "    image = reader.Execute()\n",
    "    \n",
    "    return image"
   ]
  },
  {
   "cell_type": "code",
   "execution_count": 19,
   "metadata": {},
   "outputs": [],
   "source": [
    "def registration_elastix(fixedVolumeNode, movingVolumeNode):\n",
    "    \"\"\"Ridgid registration Elastix\"\"\"\n",
    "    \n",
    "    #Set Parmeter\n",
    "    elastixLogic = Elastix.ElastixLogic()\n",
    "    parameterFilenames = elastixLogic.getRegistrationPresets()[0][Elastix.RegistrationPresets_ParameterFilenames]\n",
    "\n",
    "    outputVolumeNode = slicer.mrmlScene.AddNewNodeByClass(\"vtkMRMLScalarVolumeNode\")\n",
    "    outputTransformNode = slicer.mrmlScene.AddNewNodeByClass(\"vtkMRMLTransformNode\")\n",
    "\n",
    "    regi =  elastixLogic.registerVolumes(fixedVolumeNode, movingVolumeNode, parameterFilenames = parameterFilenames,\n",
    "                                         outputVolumeNode =  outputVolumeNode, outputTransformNode = outputTransformNode )\n",
    "    return outputVolumeNode, outputTransformNode\n",
    "        \n",
    "        \n",
    "#     if (slicer.util.getNode(\"register_tmp\") == None):\n",
    "#         outputVolumeNode = slicer.mrmlScene.AddNewNodeByClass(\"vtkMRMLScalarVolumeNode\").SetName(\"register_tmp\")\n",
    "#     else:5 -\n",
    "#          outputVolumeNode = slicer.util.getNode(\"register_tmp\")\n",
    "    \n",
    "    #Execute \n",
    "  "
   ]
  },
  {
   "cell_type": "code",
   "execution_count": 20,
   "metadata": {},
   "outputs": [],
   "source": [
    "def write_nii(image, path):\n",
    "    \"\"\"Write medical image to nii\"\"\"\n",
    "    sitk.WriteImage(image, path)"
   ]
  },
  {
   "cell_type": "code",
   "execution_count": 21,
   "metadata": {},
   "outputs": [],
   "source": [
    "def rescaleIntentsity(image, min_intensity , max_intensity ):\n",
    "    \"\"\"Rescale Image intensity range of [min , max]\"\"\"\n",
    "    return sitk.RescaleIntensity(image, min_intensity, max_intensity)"
   ]
  },
  {
   "cell_type": "code",
   "execution_count": 22,
   "metadata": {},
   "outputs": [],
   "source": [
    "def TransformMarkups(transformNode):    \n",
    "#     originalFidNode=slicer.mrmlScene.AddNewNodeByClass(\"vtkMRMLMarkupsFiducialNode\")\n",
    "\n",
    "    \n",
    "    markupsNode = slicer.mrmlScene.AddNewNodeByClass('vtkMRMLMarkupsFiducialNode')\n",
    "#     markupsNode.AddControlPoint(vtk.vtkVector3d(0, -1, -1)) #AC\n",
    "#     markupsNode.AddControlPoint(vtk.vtkVector3d(0, -23, 0 )) #PC\n",
    "    markupsNode.AddControlPoint(vtk.vtkVector3d(8, -73.0, 19.0)) #V1\n",
    "    markupsNode.AddControlPoint(vtk.vtkVector3d(37, -13.0, 51.0 )) #M1\n",
    "  #  markupsNode.AddControlPoint(vtk.vtkVector3d(42, -20.0, 48.0 )) #S1\n",
    "    markupsNode.AddControlPoint(vtk.vtkVector3d(5.0, 14.0, 47))  #Dosal_ACC +  up5\n",
    "    markupsNode.AddControlPoint(vtk.vtkVector3d(12, -15, 18.0))  #Thalamus\n",
    "#     markupsNode.AddControlPoint(vtk.vtkVect|or3d(5.0, 14.0, 57.0))  #Dorsal_ACC +  up15\n",
    "#     markupsNode.AddControlPoint(vtk.vtkVector3d(5.0, -10.0, 51.0)) #Caudal_ACC\n",
    "#     markupsNode.AddControlPoint(vtk.vtkVector3d(5.0, -10.0, 56.0)) #Caudal_ACC + up5\n",
    "#     markupsNode.AddControlPoint(vtk.vtkVector3d(5.0, -10.0, 61.0)) #Caudal_ACC + up15\n",
    "    \n",
    "#     markupsNode.AddControlPoint(vtk.vtkVector3d(8, -73.0 - 5, 19.0)) #V1 _5\n",
    "#     markupsNode.AddControlPoint(vtk.vtkVector3d(37, -13.0, 51.0 + 5)) #M1 _ 5\n",
    "#     markupsNode.AddControlPoint(vtk.vtkVector3d(42, -20.0, 48.0 + 5)) #S1 _ 5\n",
    "    \n",
    "    markupsNode.SetAndObserveTransformNodeID(transformNode.GetID())\n",
    "#    slicer.modules.transforms.logic().CreateDisplacementVolumeFromTransform(transformNode, markupsNode, False)\n",
    "    narray = slicer.util.arrayFromMarkupsControlPoints(markupsNode, world=True)\n",
    "    \n",
    "    print(narray)\n",
    "    slicer.mrmlScene.RemoveNode(markupsNode)\n",
    "    return narray"
   ]
  },
  {
   "cell_type": "code",
   "execution_count": 23,
   "metadata": {},
   "outputs": [
    {
     "name": "stdout",
     "output_type": "stream",
     "text": [
      "19\n"
     ]
    }
   ],
   "source": [
    "scene = slicer.mrmlScene\n",
    "sub_path_list = sorted(glob.glob(os.path.join(root_dir, 'S*')))\n",
    "print(len(sub_path_list))\n",
    "i=0"
   ]
  },
  {
   "cell_type": "code",
   "execution_count": 24,
   "metadata": {
    "pycharm": {
     "name": "#%%\n"
    }
   },
   "outputs": [
    {
     "data": {
      "text/plain": [
       "['E:\\\\Test_data_set\\\\S30', 'E:\\\\Test_data_set\\\\S31', 'E:\\\\Test_data_set\\\\S32', 'E:\\\\Test_data_set\\\\S33', 'E:\\\\Test_data_set\\\\S35', 'E:\\\\Test_data_set\\\\S36', 'E:\\\\Test_data_set\\\\S38', 'E:\\\\Test_data_set\\\\S39', 'E:\\\\Test_data_set\\\\S42', 'E:\\\\Test_data_set\\\\S43', 'E:\\\\Test_data_set\\\\S44', 'E:\\\\Test_data_set\\\\S46', 'E:\\\\Test_data_set\\\\S47', 'E:\\\\Test_data_set\\\\S51', 'E:\\\\Test_data_set\\\\S54', 'E:\\\\Test_data_set\\\\S55', 'E:\\\\Test_data_set\\\\S56', 'E:\\\\Test_data_set\\\\S57', 'E:\\\\Test_data_set\\\\S58']"
      ]
     },
     "execution_count": 24,
     "metadata": {},
     "output_type": "execute_result"
    }
   ],
   "source": [
    "sub_path_list"
   ]
  },
  {
   "cell_type": "code",
   "execution_count": 25,
   "metadata": {
    "pycharm": {
     "name": "#%%\n"
    }
   },
   "outputs": [
    {
     "name": "stdout",
     "output_type": "stream",
     "text": [
      "19\n",
      "0\n",
      "load dicom E:\\Test_data_set\\S30\\S30_crop_T1.nii\n",
      "push image to volumenode\n",
      "Volume registration is started in working directory: C:/Users/User/AppData/Local/Temp/Slicer/Elastix/20211206_182951_957\n",
      "Register volumes...\n"
     ]
    },
    {
     "name": "stderr",
     "output_type": "stream",
     "text": [
      "toVTKString is deprecated! Conversion is no longer necessary.\n"
     ]
    },
    {
     "name": "stdout",
     "output_type": "stream",
     "text": [
      "Register volumes using: C:\\Users\\User\\AppData\\Roaming\\NA-MIC\\Extensions-29402\\SlicerElastix\\lib\\Slicer-4.11\\elastix.exe: ['-f', 'C:/Users/User/AppData/Local/Temp/Slicer/Elastix/20211206_182951_957\\\\input\\\\fixed.mha', '-m', 'C:/Users/User/AppData/Local/Temp/Slicer/Elastix/20211206_182951_957\\\\input\\\\moving.mha', '-out', 'C:/Users/User/AppData/Local/Temp/Slicer/Elastix/20211206_182951_957\\\\result-transform', '-p', 'C:\\\\Users\\\\User\\\\AppData\\\\Roaming\\\\NA-MIC\\\\Extensions-29402\\\\SlicerElastix\\\\lib\\\\Slicer-4.11\\\\qt-scripted-modules\\\\Resources\\\\RegistrationParameters\\\\Parameters_Rigid.txt', '-p', 'C:\\\\Users\\\\User\\\\AppData\\\\Roaming\\\\NA-MIC\\\\Extensions-29402\\\\SlicerElastix\\\\lib\\\\Slicer-4.11\\\\qt-scripted-modules\\\\Resources\\\\RegistrationParameters\\\\Parameters_BSpline.txt']\n",
      "Show volume rendering of node Node\n",
      "Show volume rendering of node Node_1\n",
      "Show volume rendering of node Volume\n"
     ]
    },
    {
     "name": "stderr",
     "output_type": "stream",
     "text": [
      "Traceback (most recent call last):\n",
      "  File \"C:/Users/User/AppData/Roaming/NA-MIC/Extensions-29402/NvidiaAIAssistedAnnotation/lib/Slicer-4.11/qt-scripted-modules/.slicerrc.py\", line 13, in <lambda>\n",
      "    qt.QTimer.singleShot(10, lambda: showVolumeRendering(node))\n",
      "  File \"C:/Users/User/AppData/Roaming/NA-MIC/Extensions-29402/NvidiaAIAssistedAnnotation/lib/Slicer-4.11/qt-scripted-modules/.slicerrc.py\", line 20, in showVolumeRendering\n",
      "    scalarRange = volumeNode.GetImageData().GetScalarRange()\n",
      "AttributeError: 'NoneType' object has no attribute 'GetScalarRange'\n"
     ]
    },
    {
     "name": "stdout",
     "output_type": "stream",
     "text": [
      "Generate output...\n",
      "Generate output using: C:\\Users\\User\\AppData\\Roaming\\NA-MIC\\Extensions-29402\\SlicerElastix\\lib\\Slicer-4.11\\transformix.exe: ['-tp', 'C:/Users/User/AppData/Local/Temp/Slicer/Elastix/20211206_182951_957\\\\result-transform/TransformParameters.1.txt', '-out', 'C:/Users/User/AppData/Local/Temp/Slicer/Elastix/20211206_182951_957\\\\result-resample', '-in', 'C:/Users/User/AppData/Local/Temp/Slicer/Elastix/20211206_182951_957\\\\input\\\\moving.mha', '-def', 'all']\n"
     ]
    },
    {
     "name": "stderr",
     "output_type": "stream",
     "text": [
      "loadNodeFromFile `returnNode` argument is deprecated. Loaded node is now returned directly if `returnNode` is not specified.\n"
     ]
    },
    {
     "name": "stdout",
     "output_type": "stream",
     "text": [
      "Registration is completed\n",
      "mni-registration\n",
      "[[  6.15336314 -42.27019346 -17.75933714]\n",
      " [ 40.18212651   9.11044482  18.55053136]\n",
      " [ 10.70982625  39.71528055  21.45068983]\n",
      " [ 10.56872583  13.92983571 -10.67800354]]\n",
      "save target mni to native space\n",
      "1\n",
      "load dicom E:\\Test_data_set\\S31\\S31_crop_T1.nii\n",
      "push image to volumenode\n",
      "Volume registration is started in working directory: C:/Users/User/AppData/Local/Temp/Slicer/Elastix/20211206_183026_363\n",
      "Register volumes...\n"
     ]
    },
    {
     "name": "stderr",
     "output_type": "stream",
     "text": [
      "toVTKString is deprecated! Conversion is no longer necessary.\n"
     ]
    },
    {
     "name": "stdout",
     "output_type": "stream",
     "text": [
      "Register volumes using: C:\\Users\\User\\AppData\\Roaming\\NA-MIC\\Extensions-29402\\SlicerElastix\\lib\\Slicer-4.11\\elastix.exe: ['-f', 'C:/Users/User/AppData/Local/Temp/Slicer/Elastix/20211206_183026_363\\\\input\\\\fixed.mha', '-m', 'C:/Users/User/AppData/Local/Temp/Slicer/Elastix/20211206_183026_363\\\\input\\\\moving.mha', '-out', 'C:/Users/User/AppData/Local/Temp/Slicer/Elastix/20211206_183026_363\\\\result-transform', '-p', 'C:\\\\Users\\\\User\\\\AppData\\\\Roaming\\\\NA-MIC\\\\Extensions-29402\\\\SlicerElastix\\\\lib\\\\Slicer-4.11\\\\qt-scripted-modules\\\\Resources\\\\RegistrationParameters\\\\Parameters_Rigid.txt', '-p', 'C:\\\\Users\\\\User\\\\AppData\\\\Roaming\\\\NA-MIC\\\\Extensions-29402\\\\SlicerElastix\\\\lib\\\\Slicer-4.11\\\\qt-scripted-modules\\\\Resources\\\\RegistrationParameters\\\\Parameters_BSpline.txt']\n",
      "Show volume rendering of node result\n",
      "Show volume rendering of node Node_2\n",
      "Show volume rendering of node Volume_1\n"
     ]
    },
    {
     "name": "stderr",
     "output_type": "stream",
     "text": [
      "Traceback (most recent call last):\n",
      "  File \"C:/Users/User/AppData/Roaming/NA-MIC/Extensions-29402/NvidiaAIAssistedAnnotation/lib/Slicer-4.11/qt-scripted-modules/.slicerrc.py\", line 13, in <lambda>\n",
      "    qt.QTimer.singleShot(10, lambda: showVolumeRendering(node))\n",
      "  File \"C:/Users/User/AppData/Roaming/NA-MIC/Extensions-29402/NvidiaAIAssistedAnnotation/lib/Slicer-4.11/qt-scripted-modules/.slicerrc.py\", line 20, in showVolumeRendering\n",
      "    scalarRange = volumeNode.GetImageData().GetScalarRange()\n",
      "AttributeError: 'NoneType' object has no attribute 'GetScalarRange'\n"
     ]
    },
    {
     "name": "stdout",
     "output_type": "stream",
     "text": [
      "Generate output...\n",
      "Generate output using: C:\\Users\\User\\AppData\\Roaming\\NA-MIC\\Extensions-29402\\SlicerElastix\\lib\\Slicer-4.11\\transformix.exe: ['-tp', 'C:/Users/User/AppData/Local/Temp/Slicer/Elastix/20211206_183026_363\\\\result-transform/TransformParameters.1.txt', '-out', 'C:/Users/User/AppData/Local/Temp/Slicer/Elastix/20211206_183026_363\\\\result-resample', '-in', 'C:/Users/User/AppData/Local/Temp/Slicer/Elastix/20211206_183026_363\\\\input\\\\moving.mha', '-def', 'all']\n"
     ]
    },
    {
     "name": "stderr",
     "output_type": "stream",
     "text": [
      "loadNodeFromFile `returnNode` argument is deprecated. Loaded node is now returned directly if `returnNode` is not specified.\n"
     ]
    },
    {
     "name": "stdout",
     "output_type": "stream",
     "text": [
      "Registration is completed\n",
      "mni-registration\n",
      "[[ 10.34714192 -27.93393739 -45.05264526]\n",
      " [ 37.70552437  27.39599395  -3.77764217]\n",
      " [ 10.19682935  50.45328488  -2.85349776]\n",
      " [ 12.76635616  27.72149629 -34.7697205 ]]\n",
      "save target mni to native space\n",
      "2\n",
      "load dicom E:\\Test_data_set\\S32\\S32_crop_T1.nii\n",
      "push image to volumenode\n",
      "Volume registration is started in working directory: C:/Users/User/AppData/Local/Temp/Slicer/Elastix/20211206_183100_359\n",
      "Register volumes...\n"
     ]
    },
    {
     "name": "stderr",
     "output_type": "stream",
     "text": [
      "toVTKString is deprecated! Conversion is no longer necessary.\n"
     ]
    },
    {
     "name": "stdout",
     "output_type": "stream",
     "text": [
      "Register volumes using: C:\\Users\\User\\AppData\\Roaming\\NA-MIC\\Extensions-29402\\SlicerElastix\\lib\\Slicer-4.11\\elastix.exe: ['-f', 'C:/Users/User/AppData/Local/Temp/Slicer/Elastix/20211206_183100_359\\\\input\\\\fixed.mha', '-m', 'C:/Users/User/AppData/Local/Temp/Slicer/Elastix/20211206_183100_359\\\\input\\\\moving.mha', '-out', 'C:/Users/User/AppData/Local/Temp/Slicer/Elastix/20211206_183100_359\\\\result-transform', '-p', 'C:\\\\Users\\\\User\\\\AppData\\\\Roaming\\\\NA-MIC\\\\Extensions-29402\\\\SlicerElastix\\\\lib\\\\Slicer-4.11\\\\qt-scripted-modules\\\\Resources\\\\RegistrationParameters\\\\Parameters_Rigid.txt', '-p', 'C:\\\\Users\\\\User\\\\AppData\\\\Roaming\\\\NA-MIC\\\\Extensions-29402\\\\SlicerElastix\\\\lib\\\\Slicer-4.11\\\\qt-scripted-modules\\\\Resources\\\\RegistrationParameters\\\\Parameters_BSpline.txt']\n",
      "Show volume rendering of node result_1\n",
      "Show volume rendering of node Node_3\n",
      "Show volume rendering of node Volume_2\n"
     ]
    },
    {
     "name": "stderr",
     "output_type": "stream",
     "text": [
      "Traceback (most recent call last):\n",
      "  File \"C:/Users/User/AppData/Roaming/NA-MIC/Extensions-29402/NvidiaAIAssistedAnnotation/lib/Slicer-4.11/qt-scripted-modules/.slicerrc.py\", line 13, in <lambda>\n",
      "    qt.QTimer.singleShot(10, lambda: showVolumeRendering(node))\n",
      "  File \"C:/Users/User/AppData/Roaming/NA-MIC/Extensions-29402/NvidiaAIAssistedAnnotation/lib/Slicer-4.11/qt-scripted-modules/.slicerrc.py\", line 20, in showVolumeRendering\n",
      "    scalarRange = volumeNode.GetImageData().GetScalarRange()\n",
      "AttributeError: 'NoneType' object has no attribute 'GetScalarRange'\n"
     ]
    },
    {
     "name": "stdout",
     "output_type": "stream",
     "text": [
      "Generate output...\n",
      "Generate output using: C:\\Users\\User\\AppData\\Roaming\\NA-MIC\\Extensions-29402\\SlicerElastix\\lib\\Slicer-4.11\\transformix.exe: ['-tp', 'C:/Users/User/AppData/Local/Temp/Slicer/Elastix/20211206_183100_359\\\\result-transform/TransformParameters.1.txt', '-out', 'C:/Users/User/AppData/Local/Temp/Slicer/Elastix/20211206_183100_359\\\\result-resample', '-in', 'C:/Users/User/AppData/Local/Temp/Slicer/Elastix/20211206_183100_359\\\\input\\\\moving.mha', '-def', 'all']\n"
     ]
    },
    {
     "name": "stderr",
     "output_type": "stream",
     "text": [
      "loadNodeFromFile `returnNode` argument is deprecated. Loaded node is now returned directly if `returnNode` is not specified.\n"
     ]
    },
    {
     "name": "stdout",
     "output_type": "stream",
     "text": [
      "Registration is completed\n",
      "mni-registration\n",
      "[[ -3.30924264 -31.46071383 -30.7518365 ]\n",
      " [ 32.4841586    6.58170535   3.72766488]\n",
      " [  1.77012999  35.93724886   7.86797933]\n",
      " [  4.90114334  12.70754263 -20.98655842]]\n",
      "save target mni to native space\n",
      "3\n",
      "load dicom E:\\Test_data_set\\S33\\S33_crop_T1.nii\n",
      "push image to volumenode\n",
      "Volume registration is started in working directory: C:/Users/User/AppData/Local/Temp/Slicer/Elastix/20211206_183134_163\n",
      "Register volumes...\n"
     ]
    },
    {
     "name": "stderr",
     "output_type": "stream",
     "text": [
      "toVTKString is deprecated! Conversion is no longer necessary.\n"
     ]
    },
    {
     "name": "stdout",
     "output_type": "stream",
     "text": [
      "Register volumes using: C:\\Users\\User\\AppData\\Roaming\\NA-MIC\\Extensions-29402\\SlicerElastix\\lib\\Slicer-4.11\\elastix.exe: ['-f', 'C:/Users/User/AppData/Local/Temp/Slicer/Elastix/20211206_183134_163\\\\input\\\\fixed.mha', '-m', 'C:/Users/User/AppData/Local/Temp/Slicer/Elastix/20211206_183134_163\\\\input\\\\moving.mha', '-out', 'C:/Users/User/AppData/Local/Temp/Slicer/Elastix/20211206_183134_163\\\\result-transform', '-p', 'C:\\\\Users\\\\User\\\\AppData\\\\Roaming\\\\NA-MIC\\\\Extensions-29402\\\\SlicerElastix\\\\lib\\\\Slicer-4.11\\\\qt-scripted-modules\\\\Resources\\\\RegistrationParameters\\\\Parameters_Rigid.txt', '-p', 'C:\\\\Users\\\\User\\\\AppData\\\\Roaming\\\\NA-MIC\\\\Extensions-29402\\\\SlicerElastix\\\\lib\\\\Slicer-4.11\\\\qt-scripted-modules\\\\Resources\\\\RegistrationParameters\\\\Parameters_BSpline.txt']\n",
      "Show volume rendering of node result_2\n",
      "Show volume rendering of node Node_4\n",
      "Show volume rendering of node Volume_3\n"
     ]
    },
    {
     "name": "stderr",
     "output_type": "stream",
     "text": [
      "Traceback (most recent call last):\n",
      "  File \"C:/Users/User/AppData/Roaming/NA-MIC/Extensions-29402/NvidiaAIAssistedAnnotation/lib/Slicer-4.11/qt-scripted-modules/.slicerrc.py\", line 13, in <lambda>\n",
      "    qt.QTimer.singleShot(10, lambda: showVolumeRendering(node))\n",
      "  File \"C:/Users/User/AppData/Roaming/NA-MIC/Extensions-29402/NvidiaAIAssistedAnnotation/lib/Slicer-4.11/qt-scripted-modules/.slicerrc.py\", line 20, in showVolumeRendering\n",
      "    scalarRange = volumeNode.GetImageData().GetScalarRange()\n",
      "AttributeError: 'NoneType' object has no attribute 'GetScalarRange'\n"
     ]
    },
    {
     "name": "stdout",
     "output_type": "stream",
     "text": [
      "Generate output...\n",
      "Generate output using: C:\\Users\\User\\AppData\\Roaming\\NA-MIC\\Extensions-29402\\SlicerElastix\\lib\\Slicer-4.11\\transformix.exe: ['-tp', 'C:/Users/User/AppData/Local/Temp/Slicer/Elastix/20211206_183134_163\\\\result-transform/TransformParameters.1.txt', '-out', 'C:/Users/User/AppData/Local/Temp/Slicer/Elastix/20211206_183134_163\\\\result-resample', '-in', 'C:/Users/User/AppData/Local/Temp/Slicer/Elastix/20211206_183134_163\\\\input\\\\moving.mha', '-def', 'all']\n"
     ]
    },
    {
     "name": "stderr",
     "output_type": "stream",
     "text": [
      "loadNodeFromFile `returnNode` argument is deprecated. Loaded node is now returned directly if `returnNode` is not specified.\n"
     ]
    },
    {
     "name": "stdout",
     "output_type": "stream",
     "text": [
      "Registration is completed\n",
      "mni-registration\n",
      "[[  8.49509864 -44.89116022 -45.4419588 ]\n",
      " [ 35.4074094    7.50528092 -17.41566775]\n",
      " [  8.60207675  35.42742164 -21.54013346]\n",
      " [ 15.22260276   8.18756852 -39.20701388]]\n",
      "save target mni to native space\n",
      "4\n",
      "load dicom E:\\Test_data_set\\S35\\S35_crop_T1.nii\n",
      "push image to volumenode\n",
      "Volume registration is started in working directory: C:/Users/User/AppData/Local/Temp/Slicer/Elastix/20211206_183205_770\n",
      "Register volumes...\n"
     ]
    },
    {
     "name": "stderr",
     "output_type": "stream",
     "text": [
      "toVTKString is deprecated! Conversion is no longer necessary.\n"
     ]
    },
    {
     "name": "stdout",
     "output_type": "stream",
     "text": [
      "Register volumes using: C:\\Users\\User\\AppData\\Roaming\\NA-MIC\\Extensions-29402\\SlicerElastix\\lib\\Slicer-4.11\\elastix.exe: ['-f', 'C:/Users/User/AppData/Local/Temp/Slicer/Elastix/20211206_183205_770\\\\input\\\\fixed.mha', '-m', 'C:/Users/User/AppData/Local/Temp/Slicer/Elastix/20211206_183205_770\\\\input\\\\moving.mha', '-out', 'C:/Users/User/AppData/Local/Temp/Slicer/Elastix/20211206_183205_770\\\\result-transform', '-p', 'C:\\\\Users\\\\User\\\\AppData\\\\Roaming\\\\NA-MIC\\\\Extensions-29402\\\\SlicerElastix\\\\lib\\\\Slicer-4.11\\\\qt-scripted-modules\\\\Resources\\\\RegistrationParameters\\\\Parameters_Rigid.txt', '-p', 'C:\\\\Users\\\\User\\\\AppData\\\\Roaming\\\\NA-MIC\\\\Extensions-29402\\\\SlicerElastix\\\\lib\\\\Slicer-4.11\\\\qt-scripted-modules\\\\Resources\\\\RegistrationParameters\\\\Parameters_BSpline.txt']\n",
      "Show volume rendering of node result_3\n",
      "Show volume rendering of node Node_5\n",
      "Show volume rendering of node Volume_4\n"
     ]
    },
    {
     "name": "stderr",
     "output_type": "stream",
     "text": [
      "Traceback (most recent call last):\n",
      "  File \"C:/Users/User/AppData/Roaming/NA-MIC/Extensions-29402/NvidiaAIAssistedAnnotation/lib/Slicer-4.11/qt-scripted-modules/.slicerrc.py\", line 13, in <lambda>\n",
      "    qt.QTimer.singleShot(10, lambda: showVolumeRendering(node))\n",
      "  File \"C:/Users/User/AppData/Roaming/NA-MIC/Extensions-29402/NvidiaAIAssistedAnnotation/lib/Slicer-4.11/qt-scripted-modules/.slicerrc.py\", line 20, in showVolumeRendering\n",
      "    scalarRange = volumeNode.GetImageData().GetScalarRange()\n",
      "AttributeError: 'NoneType' object has no attribute 'GetScalarRange'\n"
     ]
    },
    {
     "name": "stdout",
     "output_type": "stream",
     "text": [
      "Generate output...\n",
      "Generate output using: C:\\Users\\User\\AppData\\Roaming\\NA-MIC\\Extensions-29402\\SlicerElastix\\lib\\Slicer-4.11\\transformix.exe: ['-tp', 'C:/Users/User/AppData/Local/Temp/Slicer/Elastix/20211206_183205_770\\\\result-transform/TransformParameters.1.txt', '-out', 'C:/Users/User/AppData/Local/Temp/Slicer/Elastix/20211206_183205_770\\\\result-resample', '-in', 'C:/Users/User/AppData/Local/Temp/Slicer/Elastix/20211206_183205_770\\\\input\\\\moving.mha', '-def', 'all']\n"
     ]
    },
    {
     "name": "stderr",
     "output_type": "stream",
     "text": [
      "loadNodeFromFile `returnNode` argument is deprecated. Loaded node is now returned directly if `returnNode` is not specified.\n"
     ]
    },
    {
     "name": "stdout",
     "output_type": "stream",
     "text": [
      "Registration is completed\n",
      "mni-registration\n",
      "[[  2.76963541 -35.9518461  -18.75219496]\n",
      " [ 30.82932508  14.09053786  12.41149413]\n",
      " [  5.01521898  44.08725463  11.63343385]\n",
      " [  9.65354467  14.46577768 -17.71667213]]\n",
      "save target mni to native space\n",
      "5\n",
      "load dicom E:\\Test_data_set\\S36\\S36_crop_T1.nii\n",
      "push image to volumenode\n",
      "Volume registration is started in working directory: C:/Users/User/AppData/Local/Temp/Slicer/Elastix/20211206_183239_018\n",
      "Register volumes...\n"
     ]
    },
    {
     "name": "stderr",
     "output_type": "stream",
     "text": [
      "toVTKString is deprecated! Conversion is no longer necessary.\n"
     ]
    },
    {
     "name": "stdout",
     "output_type": "stream",
     "text": [
      "Register volumes using: C:\\Users\\User\\AppData\\Roaming\\NA-MIC\\Extensions-29402\\SlicerElastix\\lib\\Slicer-4.11\\elastix.exe: ['-f', 'C:/Users/User/AppData/Local/Temp/Slicer/Elastix/20211206_183239_018\\\\input\\\\fixed.mha', '-m', 'C:/Users/User/AppData/Local/Temp/Slicer/Elastix/20211206_183239_018\\\\input\\\\moving.mha', '-out', 'C:/Users/User/AppData/Local/Temp/Slicer/Elastix/20211206_183239_018\\\\result-transform', '-p', 'C:\\\\Users\\\\User\\\\AppData\\\\Roaming\\\\NA-MIC\\\\Extensions-29402\\\\SlicerElastix\\\\lib\\\\Slicer-4.11\\\\qt-scripted-modules\\\\Resources\\\\RegistrationParameters\\\\Parameters_Rigid.txt', '-p', 'C:\\\\Users\\\\User\\\\AppData\\\\Roaming\\\\NA-MIC\\\\Extensions-29402\\\\SlicerElastix\\\\lib\\\\Slicer-4.11\\\\qt-scripted-modules\\\\Resources\\\\RegistrationParameters\\\\Parameters_BSpline.txt']\n",
      "Show volume rendering of node result_4\n",
      "Show volume rendering of node Node_6\n",
      "Show volume rendering of node Volume_5\n"
     ]
    },
    {
     "name": "stderr",
     "output_type": "stream",
     "text": [
      "Traceback (most recent call last):\n",
      "  File \"C:/Users/User/AppData/Roaming/NA-MIC/Extensions-29402/NvidiaAIAssistedAnnotation/lib/Slicer-4.11/qt-scripted-modules/.slicerrc.py\", line 13, in <lambda>\n",
      "    qt.QTimer.singleShot(10, lambda: showVolumeRendering(node))\n",
      "  File \"C:/Users/User/AppData/Roaming/NA-MIC/Extensions-29402/NvidiaAIAssistedAnnotation/lib/Slicer-4.11/qt-scripted-modules/.slicerrc.py\", line 20, in showVolumeRendering\n",
      "    scalarRange = volumeNode.GetImageData().GetScalarRange()\n",
      "AttributeError: 'NoneType' object has no attribute 'GetScalarRange'\n"
     ]
    },
    {
     "name": "stdout",
     "output_type": "stream",
     "text": [
      "Generate output...\n",
      "Generate output using: C:\\Users\\User\\AppData\\Roaming\\NA-MIC\\Extensions-29402\\SlicerElastix\\lib\\Slicer-4.11\\transformix.exe: ['-tp', 'C:/Users/User/AppData/Local/Temp/Slicer/Elastix/20211206_183239_018\\\\result-transform/TransformParameters.1.txt', '-out', 'C:/Users/User/AppData/Local/Temp/Slicer/Elastix/20211206_183239_018\\\\result-resample', '-in', 'C:/Users/User/AppData/Local/Temp/Slicer/Elastix/20211206_183239_018\\\\input\\\\moving.mha', '-def', 'all']\n"
     ]
    },
    {
     "name": "stderr",
     "output_type": "stream",
     "text": [
      "loadNodeFromFile `returnNode` argument is deprecated. Loaded node is now returned directly if `returnNode` is not specified.\n"
     ]
    },
    {
     "name": "stdout",
     "output_type": "stream",
     "text": [
      "Registration is completed\n",
      "mni-registration\n",
      "[[ 10.80725126 -22.66044289 -26.49405143]\n",
      " [ 41.07000079  33.20901371  18.44923327]\n",
      " [  6.57710494  55.58894473  20.3975423 ]\n",
      " [ 13.35003323  33.39912722  -8.83714149]]\n",
      "save target mni to native space\n",
      "6\n",
      "load dicom E:\\Test_data_set\\S38\\S38_crop_T1.nii\n",
      "push image to volumenode\n",
      "Volume registration is started in working directory: C:/Users/User/AppData/Local/Temp/Slicer/Elastix/20211206_183313_561\n",
      "Register volumes...\n"
     ]
    },
    {
     "name": "stderr",
     "output_type": "stream",
     "text": [
      "toVTKString is deprecated! Conversion is no longer necessary.\n"
     ]
    },
    {
     "name": "stdout",
     "output_type": "stream",
     "text": [
      "Register volumes using: C:\\Users\\User\\AppData\\Roaming\\NA-MIC\\Extensions-29402\\SlicerElastix\\lib\\Slicer-4.11\\elastix.exe: ['-f', 'C:/Users/User/AppData/Local/Temp/Slicer/Elastix/20211206_183313_561\\\\input\\\\fixed.mha', '-m', 'C:/Users/User/AppData/Local/Temp/Slicer/Elastix/20211206_183313_561\\\\input\\\\moving.mha', '-out', 'C:/Users/User/AppData/Local/Temp/Slicer/Elastix/20211206_183313_561\\\\result-transform', '-p', 'C:\\\\Users\\\\User\\\\AppData\\\\Roaming\\\\NA-MIC\\\\Extensions-29402\\\\SlicerElastix\\\\lib\\\\Slicer-4.11\\\\qt-scripted-modules\\\\Resources\\\\RegistrationParameters\\\\Parameters_Rigid.txt', '-p', 'C:\\\\Users\\\\User\\\\AppData\\\\Roaming\\\\NA-MIC\\\\Extensions-29402\\\\SlicerElastix\\\\lib\\\\Slicer-4.11\\\\qt-scripted-modules\\\\Resources\\\\RegistrationParameters\\\\Parameters_BSpline.txt']\n",
      "Show volume rendering of node result_5\n",
      "Show volume rendering of node Node_7\n",
      "Show volume rendering of node Volume_6\n"
     ]
    },
    {
     "name": "stderr",
     "output_type": "stream",
     "text": [
      "Traceback (most recent call last):\n",
      "  File \"C:/Users/User/AppData/Roaming/NA-MIC/Extensions-29402/NvidiaAIAssistedAnnotation/lib/Slicer-4.11/qt-scripted-modules/.slicerrc.py\", line 13, in <lambda>\n",
      "    qt.QTimer.singleShot(10, lambda: showVolumeRendering(node))\n",
      "  File \"C:/Users/User/AppData/Roaming/NA-MIC/Extensions-29402/NvidiaAIAssistedAnnotation/lib/Slicer-4.11/qt-scripted-modules/.slicerrc.py\", line 20, in showVolumeRendering\n",
      "    scalarRange = volumeNode.GetImageData().GetScalarRange()\n",
      "AttributeError: 'NoneType' object has no attribute 'GetScalarRange'\n"
     ]
    },
    {
     "name": "stdout",
     "output_type": "stream",
     "text": [
      "Generate output...\n",
      "Generate output using: C:\\Users\\User\\AppData\\Roaming\\NA-MIC\\Extensions-29402\\SlicerElastix\\lib\\Slicer-4.11\\transformix.exe: ['-tp', 'C:/Users/User/AppData/Local/Temp/Slicer/Elastix/20211206_183313_561\\\\result-transform/TransformParameters.1.txt', '-out', 'C:/Users/User/AppData/Local/Temp/Slicer/Elastix/20211206_183313_561\\\\result-resample', '-in', 'C:/Users/User/AppData/Local/Temp/Slicer/Elastix/20211206_183313_561\\\\input\\\\moving.mha', '-def', 'all']\n"
     ]
    },
    {
     "name": "stderr",
     "output_type": "stream",
     "text": [
      "loadNodeFromFile `returnNode` argument is deprecated. Loaded node is now returned directly if `returnNode` is not specified.\n"
     ]
    },
    {
     "name": "stdout",
     "output_type": "stream",
     "text": [
      "Registration is completed\n",
      "mni-registration\n",
      "[[  3.83406496 -51.93301335 -17.01967214]\n",
      " [ 31.7562982    2.69261129   9.97068329]\n",
      " [  5.12176503  25.75019766   6.94748001]\n",
      " [ 10.01968581  -1.13501698 -12.93929663]]\n",
      "save target mni to native space\n",
      "7\n",
      "load dicom E:\\Test_data_set\\S39\\S39_crop_T1.nii\n",
      "push image to volumenode\n",
      "Volume registration is started in working directory: C:/Users/User/AppData/Local/Temp/Slicer/Elastix/20211206_183345_783\n",
      "Register volumes...\n"
     ]
    },
    {
     "name": "stderr",
     "output_type": "stream",
     "text": [
      "toVTKString is deprecated! Conversion is no longer necessary.\n"
     ]
    },
    {
     "name": "stdout",
     "output_type": "stream",
     "text": [
      "Register volumes using: C:\\Users\\User\\AppData\\Roaming\\NA-MIC\\Extensions-29402\\SlicerElastix\\lib\\Slicer-4.11\\elastix.exe: ['-f', 'C:/Users/User/AppData/Local/Temp/Slicer/Elastix/20211206_183345_783\\\\input\\\\fixed.mha', '-m', 'C:/Users/User/AppData/Local/Temp/Slicer/Elastix/20211206_183345_783\\\\input\\\\moving.mha', '-out', 'C:/Users/User/AppData/Local/Temp/Slicer/Elastix/20211206_183345_783\\\\result-transform', '-p', 'C:\\\\Users\\\\User\\\\AppData\\\\Roaming\\\\NA-MIC\\\\Extensions-29402\\\\SlicerElastix\\\\lib\\\\Slicer-4.11\\\\qt-scripted-modules\\\\Resources\\\\RegistrationParameters\\\\Parameters_Rigid.txt', '-p', 'C:\\\\Users\\\\User\\\\AppData\\\\Roaming\\\\NA-MIC\\\\Extensions-29402\\\\SlicerElastix\\\\lib\\\\Slicer-4.11\\\\qt-scripted-modules\\\\Resources\\\\RegistrationParameters\\\\Parameters_BSpline.txt']\n",
      "Show volume rendering of node result_6\n",
      "Show volume rendering of node Node_8\n",
      "Show volume rendering of node Volume_7\n"
     ]
    },
    {
     "name": "stderr",
     "output_type": "stream",
     "text": [
      "Traceback (most recent call last):\n",
      "  File \"C:/Users/User/AppData/Roaming/NA-MIC/Extensions-29402/NvidiaAIAssistedAnnotation/lib/Slicer-4.11/qt-scripted-modules/.slicerrc.py\", line 13, in <lambda>\n",
      "    qt.QTimer.singleShot(10, lambda: showVolumeRendering(node))\n",
      "  File \"C:/Users/User/AppData/Roaming/NA-MIC/Extensions-29402/NvidiaAIAssistedAnnotation/lib/Slicer-4.11/qt-scripted-modules/.slicerrc.py\", line 20, in showVolumeRendering\n",
      "    scalarRange = volumeNode.GetImageData().GetScalarRange()\n",
      "AttributeError: 'NoneType' object has no attribute 'GetScalarRange'\n"
     ]
    },
    {
     "name": "stdout",
     "output_type": "stream",
     "text": [
      "Generate output...\n",
      "Generate output using: C:\\Users\\User\\AppData\\Roaming\\NA-MIC\\Extensions-29402\\SlicerElastix\\lib\\Slicer-4.11\\transformix.exe: ['-tp', 'C:/Users/User/AppData/Local/Temp/Slicer/Elastix/20211206_183345_783\\\\result-transform/TransformParameters.1.txt', '-out', 'C:/Users/User/AppData/Local/Temp/Slicer/Elastix/20211206_183345_783\\\\result-resample', '-in', 'C:/Users/User/AppData/Local/Temp/Slicer/Elastix/20211206_183345_783\\\\input\\\\moving.mha', '-def', 'all']\n"
     ]
    },
    {
     "name": "stderr",
     "output_type": "stream",
     "text": [
      "loadNodeFromFile `returnNode` argument is deprecated. Loaded node is now returned directly if `returnNode` is not specified.\n"
     ]
    },
    {
     "name": "stdout",
     "output_type": "stream",
     "text": [
      "Registration is completed\n",
      "mni-registration\n",
      "[[ 10.84437177 -36.8558092  -22.76179254]\n",
      " [ 45.17567342  10.49970092  13.29122154]\n",
      " [ 14.41532138  38.05899812  16.17310829]\n",
      " [ 18.43250065  12.44462083 -15.11723157]]\n",
      "save target mni to native space\n",
      "8\n",
      "load dicom E:\\Test_data_set\\S42\\S42_crop_T1.nii\n",
      "push image to volumenode\n",
      "Volume registration is started in working directory: C:/Users/User/AppData/Local/Temp/Slicer/Elastix/20211206_183419_680\n",
      "Register volumes...\n"
     ]
    },
    {
     "name": "stderr",
     "output_type": "stream",
     "text": [
      "toVTKString is deprecated! Conversion is no longer necessary.\n"
     ]
    },
    {
     "name": "stdout",
     "output_type": "stream",
     "text": [
      "Register volumes using: C:\\Users\\User\\AppData\\Roaming\\NA-MIC\\Extensions-29402\\SlicerElastix\\lib\\Slicer-4.11\\elastix.exe: ['-f', 'C:/Users/User/AppData/Local/Temp/Slicer/Elastix/20211206_183419_680\\\\input\\\\fixed.mha', '-m', 'C:/Users/User/AppData/Local/Temp/Slicer/Elastix/20211206_183419_680\\\\input\\\\moving.mha', '-out', 'C:/Users/User/AppData/Local/Temp/Slicer/Elastix/20211206_183419_680\\\\result-transform', '-p', 'C:\\\\Users\\\\User\\\\AppData\\\\Roaming\\\\NA-MIC\\\\Extensions-29402\\\\SlicerElastix\\\\lib\\\\Slicer-4.11\\\\qt-scripted-modules\\\\Resources\\\\RegistrationParameters\\\\Parameters_Rigid.txt', '-p', 'C:\\\\Users\\\\User\\\\AppData\\\\Roaming\\\\NA-MIC\\\\Extensions-29402\\\\SlicerElastix\\\\lib\\\\Slicer-4.11\\\\qt-scripted-modules\\\\Resources\\\\RegistrationParameters\\\\Parameters_BSpline.txt']\n",
      "Show volume rendering of node result_7\n",
      "Show volume rendering of node Node_9\n",
      "Show volume rendering of node Volume_8\n"
     ]
    },
    {
     "name": "stderr",
     "output_type": "stream",
     "text": [
      "Traceback (most recent call last):\n",
      "  File \"C:/Users/User/AppData/Roaming/NA-MIC/Extensions-29402/NvidiaAIAssistedAnnotation/lib/Slicer-4.11/qt-scripted-modules/.slicerrc.py\", line 13, in <lambda>\n",
      "    qt.QTimer.singleShot(10, lambda: showVolumeRendering(node))\n",
      "  File \"C:/Users/User/AppData/Roaming/NA-MIC/Extensions-29402/NvidiaAIAssistedAnnotation/lib/Slicer-4.11/qt-scripted-modules/.slicerrc.py\", line 20, in showVolumeRendering\n",
      "    scalarRange = volumeNode.GetImageData().GetScalarRange()\n",
      "AttributeError: 'NoneType' object has no attribute 'GetScalarRange'\n"
     ]
    },
    {
     "name": "stdout",
     "output_type": "stream",
     "text": [
      "Generate output...\n",
      "Generate output using: C:\\Users\\User\\AppData\\Roaming\\NA-MIC\\Extensions-29402\\SlicerElastix\\lib\\Slicer-4.11\\transformix.exe: ['-tp', 'C:/Users/User/AppData/Local/Temp/Slicer/Elastix/20211206_183419_680\\\\result-transform/TransformParameters.1.txt', '-out', 'C:/Users/User/AppData/Local/Temp/Slicer/Elastix/20211206_183419_680\\\\result-resample', '-in', 'C:/Users/User/AppData/Local/Temp/Slicer/Elastix/20211206_183419_680\\\\input\\\\moving.mha', '-def', 'all']\n"
     ]
    },
    {
     "name": "stderr",
     "output_type": "stream",
     "text": [
      "loadNodeFromFile `returnNode` argument is deprecated. Loaded node is now returned directly if `returnNode` is not specified.\n"
     ]
    },
    {
     "name": "stdout",
     "output_type": "stream",
     "text": [
      "Registration is completed\n",
      "mni-registration\n",
      "[[  9.17869687 -45.5386246  -39.41503158]\n",
      " [ 41.69781576   8.79849868 -12.43879263]\n",
      " [ 12.56619524  33.06836423 -16.44863203]\n",
      " [ 16.41836422   3.62737882 -40.78943405]]\n",
      "save target mni to native space\n",
      "9\n",
      "load dicom E:\\Test_data_set\\S43\\S43_crop_T1.nii\n",
      "push image to volumenode\n",
      "Volume registration is started in working directory: C:/Users/User/AppData/Local/Temp/Slicer/Elastix/20211206_183452_416\n",
      "Register volumes...\n"
     ]
    },
    {
     "name": "stderr",
     "output_type": "stream",
     "text": [
      "toVTKString is deprecated! Conversion is no longer necessary.\n"
     ]
    },
    {
     "name": "stdout",
     "output_type": "stream",
     "text": [
      "Register volumes using: C:\\Users\\User\\AppData\\Roaming\\NA-MIC\\Extensions-29402\\SlicerElastix\\lib\\Slicer-4.11\\elastix.exe: ['-f', 'C:/Users/User/AppData/Local/Temp/Slicer/Elastix/20211206_183452_416\\\\input\\\\fixed.mha', '-m', 'C:/Users/User/AppData/Local/Temp/Slicer/Elastix/20211206_183452_416\\\\input\\\\moving.mha', '-out', 'C:/Users/User/AppData/Local/Temp/Slicer/Elastix/20211206_183452_416\\\\result-transform', '-p', 'C:\\\\Users\\\\User\\\\AppData\\\\Roaming\\\\NA-MIC\\\\Extensions-29402\\\\SlicerElastix\\\\lib\\\\Slicer-4.11\\\\qt-scripted-modules\\\\Resources\\\\RegistrationParameters\\\\Parameters_Rigid.txt', '-p', 'C:\\\\Users\\\\User\\\\AppData\\\\Roaming\\\\NA-MIC\\\\Extensions-29402\\\\SlicerElastix\\\\lib\\\\Slicer-4.11\\\\qt-scripted-modules\\\\Resources\\\\RegistrationParameters\\\\Parameters_BSpline.txt']\n",
      "Show volume rendering of node result_8\n",
      "Show volume rendering of node Node_10\n",
      "Show volume rendering of node Volume_9\n"
     ]
    },
    {
     "name": "stderr",
     "output_type": "stream",
     "text": [
      "Traceback (most recent call last):\n",
      "  File \"C:/Users/User/AppData/Roaming/NA-MIC/Extensions-29402/NvidiaAIAssistedAnnotation/lib/Slicer-4.11/qt-scripted-modules/.slicerrc.py\", line 13, in <lambda>\n",
      "    qt.QTimer.singleShot(10, lambda: showVolumeRendering(node))\n",
      "  File \"C:/Users/User/AppData/Roaming/NA-MIC/Extensions-29402/NvidiaAIAssistedAnnotation/lib/Slicer-4.11/qt-scripted-modules/.slicerrc.py\", line 20, in showVolumeRendering\n",
      "    scalarRange = volumeNode.GetImageData().GetScalarRange()\n",
      "AttributeError: 'NoneType' object has no attribute 'GetScalarRange'\n"
     ]
    },
    {
     "name": "stdout",
     "output_type": "stream",
     "text": [
      "Generate output...\n",
      "Generate output using: C:\\Users\\User\\AppData\\Roaming\\NA-MIC\\Extensions-29402\\SlicerElastix\\lib\\Slicer-4.11\\transformix.exe: ['-tp', 'C:/Users/User/AppData/Local/Temp/Slicer/Elastix/20211206_183452_416\\\\result-transform/TransformParameters.1.txt', '-out', 'C:/Users/User/AppData/Local/Temp/Slicer/Elastix/20211206_183452_416\\\\result-resample', '-in', 'C:/Users/User/AppData/Local/Temp/Slicer/Elastix/20211206_183452_416\\\\input\\\\moving.mha', '-def', 'all']\n"
     ]
    },
    {
     "name": "stderr",
     "output_type": "stream",
     "text": [
      "loadNodeFromFile `returnNode` argument is deprecated. Loaded node is now returned directly if `returnNode` is not specified.\n"
     ]
    },
    {
     "name": "stdout",
     "output_type": "stream",
     "text": [
      "Registration is completed\n",
      "mni-registration\n",
      "[[  8.9337582  -17.79317371 -40.92586449]\n",
      " [ 39.24457809  28.19902122   5.16204333]\n",
      " [  9.78904381  49.13080474  12.56810182]\n",
      " [ 15.15634952  33.17996828 -24.4428432 ]]\n",
      "save target mni to native space\n",
      "10\n",
      "load dicom E:\\Test_data_set\\S44\\S44_crop_T1.nii\n",
      "push image to volumenode\n",
      "Volume registration is started in working directory: C:/Users/User/AppData/Local/Temp/Slicer/Elastix/20211206_183526_791\n",
      "Register volumes...\n"
     ]
    },
    {
     "name": "stderr",
     "output_type": "stream",
     "text": [
      "toVTKString is deprecated! Conversion is no longer necessary.\n"
     ]
    },
    {
     "name": "stdout",
     "output_type": "stream",
     "text": [
      "Register volumes using: C:\\Users\\User\\AppData\\Roaming\\NA-MIC\\Extensions-29402\\SlicerElastix\\lib\\Slicer-4.11\\elastix.exe: ['-f', 'C:/Users/User/AppData/Local/Temp/Slicer/Elastix/20211206_183526_791\\\\input\\\\fixed.mha', '-m', 'C:/Users/User/AppData/Local/Temp/Slicer/Elastix/20211206_183526_791\\\\input\\\\moving.mha', '-out', 'C:/Users/User/AppData/Local/Temp/Slicer/Elastix/20211206_183526_791\\\\result-transform', '-p', 'C:\\\\Users\\\\User\\\\AppData\\\\Roaming\\\\NA-MIC\\\\Extensions-29402\\\\SlicerElastix\\\\lib\\\\Slicer-4.11\\\\qt-scripted-modules\\\\Resources\\\\RegistrationParameters\\\\Parameters_Rigid.txt', '-p', 'C:\\\\Users\\\\User\\\\AppData\\\\Roaming\\\\NA-MIC\\\\Extensions-29402\\\\SlicerElastix\\\\lib\\\\Slicer-4.11\\\\qt-scripted-modules\\\\Resources\\\\RegistrationParameters\\\\Parameters_BSpline.txt']\n",
      "Show volume rendering of node result_9\n",
      "Show volume rendering of node Node_11\n",
      "Show volume rendering of node Volume_10\n"
     ]
    },
    {
     "name": "stderr",
     "output_type": "stream",
     "text": [
      "Traceback (most recent call last):\n",
      "  File \"C:/Users/User/AppData/Roaming/NA-MIC/Extensions-29402/NvidiaAIAssistedAnnotation/lib/Slicer-4.11/qt-scripted-modules/.slicerrc.py\", line 13, in <lambda>\n",
      "    qt.QTimer.singleShot(10, lambda: showVolumeRendering(node))\n",
      "  File \"C:/Users/User/AppData/Roaming/NA-MIC/Extensions-29402/NvidiaAIAssistedAnnotation/lib/Slicer-4.11/qt-scripted-modules/.slicerrc.py\", line 20, in showVolumeRendering\n",
      "    scalarRange = volumeNode.GetImageData().GetScalarRange()\n",
      "AttributeError: 'NoneType' object has no attribute 'GetScalarRange'\n"
     ]
    },
    {
     "name": "stdout",
     "output_type": "stream",
     "text": [
      "Generate output...\n",
      "Generate output using: C:\\Users\\User\\AppData\\Roaming\\NA-MIC\\Extensions-29402\\SlicerElastix\\lib\\Slicer-4.11\\transformix.exe: ['-tp', 'C:/Users/User/AppData/Local/Temp/Slicer/Elastix/20211206_183526_791\\\\result-transform/TransformParameters.1.txt', '-out', 'C:/Users/User/AppData/Local/Temp/Slicer/Elastix/20211206_183526_791\\\\result-resample', '-in', 'C:/Users/User/AppData/Local/Temp/Slicer/Elastix/20211206_183526_791\\\\input\\\\moving.mha', '-def', 'all']\n"
     ]
    },
    {
     "name": "stderr",
     "output_type": "stream",
     "text": [
      "loadNodeFromFile `returnNode` argument is deprecated. Loaded node is now returned directly if `returnNode` is not specified.\n"
     ]
    },
    {
     "name": "stdout",
     "output_type": "stream",
     "text": [
      "Registration is completed\n",
      "mni-registration\n",
      "[[ 11.24905854 -18.54334898 -56.07296394]\n",
      " [ 31.79043249  37.27273216  -3.02908703]\n",
      " [  1.93865904  56.89984708  -1.71797857]\n",
      " [ 12.64299923  37.48545986 -42.3561026 ]]\n",
      "save target mni to native space\n",
      "11\n",
      "load dicom E:\\Test_data_set\\S46\\S46_crop_T1.nii\n",
      "push image to volumenode\n",
      "Volume registration is started in working directory: C:/Users/User/AppData/Local/Temp/Slicer/Elastix/20211206_183558_974\n",
      "Register volumes...\n"
     ]
    },
    {
     "name": "stderr",
     "output_type": "stream",
     "text": [
      "toVTKString is deprecated! Conversion is no longer necessary.\n"
     ]
    },
    {
     "name": "stdout",
     "output_type": "stream",
     "text": [
      "Register volumes using: C:\\Users\\User\\AppData\\Roaming\\NA-MIC\\Extensions-29402\\SlicerElastix\\lib\\Slicer-4.11\\elastix.exe: ['-f', 'C:/Users/User/AppData/Local/Temp/Slicer/Elastix/20211206_183558_974\\\\input\\\\fixed.mha', '-m', 'C:/Users/User/AppData/Local/Temp/Slicer/Elastix/20211206_183558_974\\\\input\\\\moving.mha', '-out', 'C:/Users/User/AppData/Local/Temp/Slicer/Elastix/20211206_183558_974\\\\result-transform', '-p', 'C:\\\\Users\\\\User\\\\AppData\\\\Roaming\\\\NA-MIC\\\\Extensions-29402\\\\SlicerElastix\\\\lib\\\\Slicer-4.11\\\\qt-scripted-modules\\\\Resources\\\\RegistrationParameters\\\\Parameters_Rigid.txt', '-p', 'C:\\\\Users\\\\User\\\\AppData\\\\Roaming\\\\NA-MIC\\\\Extensions-29402\\\\SlicerElastix\\\\lib\\\\Slicer-4.11\\\\qt-scripted-modules\\\\Resources\\\\RegistrationParameters\\\\Parameters_BSpline.txt']\n",
      "Show volume rendering of node result_10\n",
      "Show volume rendering of node Node_12\n",
      "Show volume rendering of node Volume_11\n"
     ]
    },
    {
     "name": "stderr",
     "output_type": "stream",
     "text": [
      "Traceback (most recent call last):\n",
      "  File \"C:/Users/User/AppData/Roaming/NA-MIC/Extensions-29402/NvidiaAIAssistedAnnotation/lib/Slicer-4.11/qt-scripted-modules/.slicerrc.py\", line 13, in <lambda>\n",
      "    qt.QTimer.singleShot(10, lambda: showVolumeRendering(node))\n",
      "  File \"C:/Users/User/AppData/Roaming/NA-MIC/Extensions-29402/NvidiaAIAssistedAnnotation/lib/Slicer-4.11/qt-scripted-modules/.slicerrc.py\", line 20, in showVolumeRendering\n",
      "    scalarRange = volumeNode.GetImageData().GetScalarRange()\n",
      "AttributeError: 'NoneType' object has no attribute 'GetScalarRange'\n"
     ]
    },
    {
     "name": "stdout",
     "output_type": "stream",
     "text": [
      "Generate output...\n",
      "Generate output using: C:\\Users\\User\\AppData\\Roaming\\NA-MIC\\Extensions-29402\\SlicerElastix\\lib\\Slicer-4.11\\transformix.exe: ['-tp', 'C:/Users/User/AppData/Local/Temp/Slicer/Elastix/20211206_183558_974\\\\result-transform/TransformParameters.1.txt', '-out', 'C:/Users/User/AppData/Local/Temp/Slicer/Elastix/20211206_183558_974\\\\result-resample', '-in', 'C:/Users/User/AppData/Local/Temp/Slicer/Elastix/20211206_183558_974\\\\input\\\\moving.mha', '-def', 'all']\n"
     ]
    },
    {
     "name": "stderr",
     "output_type": "stream",
     "text": [
      "loadNodeFromFile `returnNode` argument is deprecated. Loaded node is now returned directly if `returnNode` is not specified.\n"
     ]
    },
    {
     "name": "stdout",
     "output_type": "stream",
     "text": [
      "Registration is completed\n",
      "mni-registration\n",
      "[[  6.65439575 -38.79630694 -38.39753098]\n",
      " [ 36.88770543   8.39594841  -1.83669085]\n",
      " [  6.55814112  33.61645835   1.48039608]\n",
      " [ 12.31587086   9.88274053 -29.37848889]]\n",
      "save target mni to native space\n",
      "12\n",
      "load dicom E:\\Test_data_set\\S47\\S47_crop_T1.nii\n",
      "push image to volumenode\n",
      "Volume registration is started in working directory: C:/Users/User/AppData/Local/Temp/Slicer/Elastix/20211206_183632_763\n",
      "Register volumes...\n"
     ]
    },
    {
     "name": "stderr",
     "output_type": "stream",
     "text": [
      "toVTKString is deprecated! Conversion is no longer necessary.\n"
     ]
    },
    {
     "name": "stdout",
     "output_type": "stream",
     "text": [
      "Register volumes using: C:\\Users\\User\\AppData\\Roaming\\NA-MIC\\Extensions-29402\\SlicerElastix\\lib\\Slicer-4.11\\elastix.exe: ['-f', 'C:/Users/User/AppData/Local/Temp/Slicer/Elastix/20211206_183632_763\\\\input\\\\fixed.mha', '-m', 'C:/Users/User/AppData/Local/Temp/Slicer/Elastix/20211206_183632_763\\\\input\\\\moving.mha', '-out', 'C:/Users/User/AppData/Local/Temp/Slicer/Elastix/20211206_183632_763\\\\result-transform', '-p', 'C:\\\\Users\\\\User\\\\AppData\\\\Roaming\\\\NA-MIC\\\\Extensions-29402\\\\SlicerElastix\\\\lib\\\\Slicer-4.11\\\\qt-scripted-modules\\\\Resources\\\\RegistrationParameters\\\\Parameters_Rigid.txt', '-p', 'C:\\\\Users\\\\User\\\\AppData\\\\Roaming\\\\NA-MIC\\\\Extensions-29402\\\\SlicerElastix\\\\lib\\\\Slicer-4.11\\\\qt-scripted-modules\\\\Resources\\\\RegistrationParameters\\\\Parameters_BSpline.txt']\n",
      "Show volume rendering of node result_11\n",
      "Show volume rendering of node Node_13\n",
      "Show volume rendering of node Volume_12\n"
     ]
    },
    {
     "name": "stderr",
     "output_type": "stream",
     "text": [
      "Traceback (most recent call last):\n",
      "  File \"C:/Users/User/AppData/Roaming/NA-MIC/Extensions-29402/NvidiaAIAssistedAnnotation/lib/Slicer-4.11/qt-scripted-modules/.slicerrc.py\", line 13, in <lambda>\n",
      "    qt.QTimer.singleShot(10, lambda: showVolumeRendering(node))\n",
      "  File \"C:/Users/User/AppData/Roaming/NA-MIC/Extensions-29402/NvidiaAIAssistedAnnotation/lib/Slicer-4.11/qt-scripted-modules/.slicerrc.py\", line 20, in showVolumeRendering\n",
      "    scalarRange = volumeNode.GetImageData().GetScalarRange()\n",
      "AttributeError: 'NoneType' object has no attribute 'GetScalarRange'\n"
     ]
    },
    {
     "name": "stdout",
     "output_type": "stream",
     "text": [
      "Generate output...\n",
      "Generate output using: C:\\Users\\User\\AppData\\Roaming\\NA-MIC\\Extensions-29402\\SlicerElastix\\lib\\Slicer-4.11\\transformix.exe: ['-tp', 'C:/Users/User/AppData/Local/Temp/Slicer/Elastix/20211206_183632_763\\\\result-transform/TransformParameters.1.txt', '-out', 'C:/Users/User/AppData/Local/Temp/Slicer/Elastix/20211206_183632_763\\\\result-resample', '-in', 'C:/Users/User/AppData/Local/Temp/Slicer/Elastix/20211206_183632_763\\\\input\\\\moving.mha', '-def', 'all']\n"
     ]
    },
    {
     "name": "stderr",
     "output_type": "stream",
     "text": [
      "loadNodeFromFile `returnNode` argument is deprecated. Loaded node is now returned directly if `returnNode` is not specified.\n"
     ]
    },
    {
     "name": "stdout",
     "output_type": "stream",
     "text": [
      "Registration is completed\n",
      "mni-registration\n",
      "[[  9.76004397 -29.36279481 -20.92896449]\n",
      " [ 32.93532013  21.37480763   5.20645479]\n",
      " [  0.97180018  40.72780762   0.99440755]\n",
      " [  9.64405083  19.57216248 -21.7911305 ]]\n",
      "save target mni to native space\n",
      "13\n",
      "load dicom E:\\Test_data_set\\S51\\51_crop_T1.nii\n",
      "push image to volumenode\n",
      "Volume registration is started in working directory: C:/Users/User/AppData/Local/Temp/Slicer/Elastix/20211206_183706_866\n",
      "Register volumes...\n"
     ]
    },
    {
     "name": "stderr",
     "output_type": "stream",
     "text": [
      "toVTKString is deprecated! Conversion is no longer necessary.\n"
     ]
    },
    {
     "name": "stdout",
     "output_type": "stream",
     "text": [
      "Register volumes using: C:\\Users\\User\\AppData\\Roaming\\NA-MIC\\Extensions-29402\\SlicerElastix\\lib\\Slicer-4.11\\elastix.exe: ['-f', 'C:/Users/User/AppData/Local/Temp/Slicer/Elastix/20211206_183706_866\\\\input\\\\fixed.mha', '-m', 'C:/Users/User/AppData/Local/Temp/Slicer/Elastix/20211206_183706_866\\\\input\\\\moving.mha', '-out', 'C:/Users/User/AppData/Local/Temp/Slicer/Elastix/20211206_183706_866\\\\result-transform', '-p', 'C:\\\\Users\\\\User\\\\AppData\\\\Roaming\\\\NA-MIC\\\\Extensions-29402\\\\SlicerElastix\\\\lib\\\\Slicer-4.11\\\\qt-scripted-modules\\\\Resources\\\\RegistrationParameters\\\\Parameters_Rigid.txt', '-p', 'C:\\\\Users\\\\User\\\\AppData\\\\Roaming\\\\NA-MIC\\\\Extensions-29402\\\\SlicerElastix\\\\lib\\\\Slicer-4.11\\\\qt-scripted-modules\\\\Resources\\\\RegistrationParameters\\\\Parameters_BSpline.txt']\n",
      "Show volume rendering of node result_12\n",
      "Show volume rendering of node Node_14\n",
      "Show volume rendering of node Volume_13\n"
     ]
    },
    {
     "name": "stderr",
     "output_type": "stream",
     "text": [
      "Traceback (most recent call last):\n",
      "  File \"C:/Users/User/AppData/Roaming/NA-MIC/Extensions-29402/NvidiaAIAssistedAnnotation/lib/Slicer-4.11/qt-scripted-modules/.slicerrc.py\", line 13, in <lambda>\n",
      "    qt.QTimer.singleShot(10, lambda: showVolumeRendering(node))\n",
      "  File \"C:/Users/User/AppData/Roaming/NA-MIC/Extensions-29402/NvidiaAIAssistedAnnotation/lib/Slicer-4.11/qt-scripted-modules/.slicerrc.py\", line 20, in showVolumeRendering\n",
      "    scalarRange = volumeNode.GetImageData().GetScalarRange()\n",
      "AttributeError: 'NoneType' object has no attribute 'GetScalarRange'\n"
     ]
    },
    {
     "name": "stdout",
     "output_type": "stream",
     "text": [
      "Generate output...\n",
      "Generate output using: C:\\Users\\User\\AppData\\Roaming\\NA-MIC\\Extensions-29402\\SlicerElastix\\lib\\Slicer-4.11\\transformix.exe: ['-tp', 'C:/Users/User/AppData/Local/Temp/Slicer/Elastix/20211206_183706_866\\\\result-transform/TransformParameters.1.txt', '-out', 'C:/Users/User/AppData/Local/Temp/Slicer/Elastix/20211206_183706_866\\\\result-resample', '-in', 'C:/Users/User/AppData/Local/Temp/Slicer/Elastix/20211206_183706_866\\\\input\\\\moving.mha', '-def', 'all']\n"
     ]
    },
    {
     "name": "stderr",
     "output_type": "stream",
     "text": [
      "loadNodeFromFile `returnNode` argument is deprecated. Loaded node is now returned directly if `returnNode` is not specified.\n"
     ]
    },
    {
     "name": "stdout",
     "output_type": "stream",
     "text": [
      "Registration is completed\n",
      "mni-registration\n",
      "[[ 10.2324636  -39.31493971  26.53833428]\n",
      " [ 41.73096134   5.49393132  61.94117066]\n",
      " [ 13.9035842   32.59384134  62.13492873]\n",
      " [ 18.68707531  11.66728183  35.79847634]]\n",
      "save target mni to native space\n",
      "14\n",
      "load dicom E:\\Test_data_set\\S54\\54_crop_T1.nii\n",
      "push image to volumenode\n",
      "Volume registration is started in working directory: C:/Users/User/AppData/Local/Temp/Slicer/Elastix/20211206_183742_691\n",
      "Register volumes...\n"
     ]
    },
    {
     "name": "stderr",
     "output_type": "stream",
     "text": [
      "toVTKString is deprecated! Conversion is no longer necessary.\n"
     ]
    },
    {
     "name": "stdout",
     "output_type": "stream",
     "text": [
      "Register volumes using: C:\\Users\\User\\AppData\\Roaming\\NA-MIC\\Extensions-29402\\SlicerElastix\\lib\\Slicer-4.11\\elastix.exe: ['-f', 'C:/Users/User/AppData/Local/Temp/Slicer/Elastix/20211206_183742_691\\\\input\\\\fixed.mha', '-m', 'C:/Users/User/AppData/Local/Temp/Slicer/Elastix/20211206_183742_691\\\\input\\\\moving.mha', '-out', 'C:/Users/User/AppData/Local/Temp/Slicer/Elastix/20211206_183742_691\\\\result-transform', '-p', 'C:\\\\Users\\\\User\\\\AppData\\\\Roaming\\\\NA-MIC\\\\Extensions-29402\\\\SlicerElastix\\\\lib\\\\Slicer-4.11\\\\qt-scripted-modules\\\\Resources\\\\RegistrationParameters\\\\Parameters_Rigid.txt', '-p', 'C:\\\\Users\\\\User\\\\AppData\\\\Roaming\\\\NA-MIC\\\\Extensions-29402\\\\SlicerElastix\\\\lib\\\\Slicer-4.11\\\\qt-scripted-modules\\\\Resources\\\\RegistrationParameters\\\\Parameters_BSpline.txt']\n",
      "Show volume rendering of node result_13\n",
      "Show volume rendering of node Node_15\n",
      "Show volume rendering of node Volume_14\n"
     ]
    },
    {
     "name": "stderr",
     "output_type": "stream",
     "text": [
      "Traceback (most recent call last):\n",
      "  File \"C:/Users/User/AppData/Roaming/NA-MIC/Extensions-29402/NvidiaAIAssistedAnnotation/lib/Slicer-4.11/qt-scripted-modules/.slicerrc.py\", line 13, in <lambda>\n",
      "    qt.QTimer.singleShot(10, lambda: showVolumeRendering(node))\n",
      "  File \"C:/Users/User/AppData/Roaming/NA-MIC/Extensions-29402/NvidiaAIAssistedAnnotation/lib/Slicer-4.11/qt-scripted-modules/.slicerrc.py\", line 20, in showVolumeRendering\n",
      "    scalarRange = volumeNode.GetImageData().GetScalarRange()\n",
      "AttributeError: 'NoneType' object has no attribute 'GetScalarRange'\n"
     ]
    },
    {
     "name": "stdout",
     "output_type": "stream",
     "text": [
      "Generate output...\n",
      "Generate output using: C:\\Users\\User\\AppData\\Roaming\\NA-MIC\\Extensions-29402\\SlicerElastix\\lib\\Slicer-4.11\\transformix.exe: ['-tp', 'C:/Users/User/AppData/Local/Temp/Slicer/Elastix/20211206_183742_691\\\\result-transform/TransformParameters.1.txt', '-out', 'C:/Users/User/AppData/Local/Temp/Slicer/Elastix/20211206_183742_691\\\\result-resample', '-in', 'C:/Users/User/AppData/Local/Temp/Slicer/Elastix/20211206_183742_691\\\\input\\\\moving.mha', '-def', 'all']\n"
     ]
    },
    {
     "name": "stderr",
     "output_type": "stream",
     "text": [
      "loadNodeFromFile `returnNode` argument is deprecated. Loaded node is now returned directly if `returnNode` is not specified.\n"
     ]
    },
    {
     "name": "stdout",
     "output_type": "stream",
     "text": [
      "Registration is completed\n",
      "mni-registration\n",
      "[[  6.79725549 -40.67563175  30.810946  ]\n",
      " [ 40.33094022   6.16709733  70.4129766 ]\n",
      " [ 11.09123469  36.00106724  70.99903038]\n",
      " [ 15.65785771  11.80915397  39.85612988]]\n",
      "save target mni to native space\n",
      "15\n",
      "load dicom E:\\Test_data_set\\S55\\55_crop_T1.nii\n",
      "push image to volumenode\n",
      "Volume registration is started in working directory: C:/Users/User/AppData/Local/Temp/Slicer/Elastix/20211206_183817_611\n",
      "Register volumes...\n"
     ]
    },
    {
     "name": "stderr",
     "output_type": "stream",
     "text": [
      "toVTKString is deprecated! Conversion is no longer necessary.\n"
     ]
    },
    {
     "name": "stdout",
     "output_type": "stream",
     "text": [
      "Register volumes using: C:\\Users\\User\\AppData\\Roaming\\NA-MIC\\Extensions-29402\\SlicerElastix\\lib\\Slicer-4.11\\elastix.exe: ['-f', 'C:/Users/User/AppData/Local/Temp/Slicer/Elastix/20211206_183817_611\\\\input\\\\fixed.mha', '-m', 'C:/Users/User/AppData/Local/Temp/Slicer/Elastix/20211206_183817_611\\\\input\\\\moving.mha', '-out', 'C:/Users/User/AppData/Local/Temp/Slicer/Elastix/20211206_183817_611\\\\result-transform', '-p', 'C:\\\\Users\\\\User\\\\AppData\\\\Roaming\\\\NA-MIC\\\\Extensions-29402\\\\SlicerElastix\\\\lib\\\\Slicer-4.11\\\\qt-scripted-modules\\\\Resources\\\\RegistrationParameters\\\\Parameters_Rigid.txt', '-p', 'C:\\\\Users\\\\User\\\\AppData\\\\Roaming\\\\NA-MIC\\\\Extensions-29402\\\\SlicerElastix\\\\lib\\\\Slicer-4.11\\\\qt-scripted-modules\\\\Resources\\\\RegistrationParameters\\\\Parameters_BSpline.txt']\n",
      "Show volume rendering of node result_14\n",
      "Show volume rendering of node Node_16\n",
      "Show volume rendering of node Volume_15\n"
     ]
    },
    {
     "name": "stderr",
     "output_type": "stream",
     "text": [
      "Traceback (most recent call last):\n",
      "  File \"C:/Users/User/AppData/Roaming/NA-MIC/Extensions-29402/NvidiaAIAssistedAnnotation/lib/Slicer-4.11/qt-scripted-modules/.slicerrc.py\", line 13, in <lambda>\n",
      "    qt.QTimer.singleShot(10, lambda: showVolumeRendering(node))\n",
      "  File \"C:/Users/User/AppData/Roaming/NA-MIC/Extensions-29402/NvidiaAIAssistedAnnotation/lib/Slicer-4.11/qt-scripted-modules/.slicerrc.py\", line 20, in showVolumeRendering\n",
      "    scalarRange = volumeNode.GetImageData().GetScalarRange()\n",
      "AttributeError: 'NoneType' object has no attribute 'GetScalarRange'\n"
     ]
    },
    {
     "name": "stdout",
     "output_type": "stream",
     "text": [
      "Generate output...\n",
      "Generate output using: C:\\Users\\User\\AppData\\Roaming\\NA-MIC\\Extensions-29402\\SlicerElastix\\lib\\Slicer-4.11\\transformix.exe: ['-tp', 'C:/Users/User/AppData/Local/Temp/Slicer/Elastix/20211206_183817_611\\\\result-transform/TransformParameters.1.txt', '-out', 'C:/Users/User/AppData/Local/Temp/Slicer/Elastix/20211206_183817_611\\\\result-resample', '-in', 'C:/Users/User/AppData/Local/Temp/Slicer/Elastix/20211206_183817_611\\\\input\\\\moving.mha', '-def', 'all']\n"
     ]
    },
    {
     "name": "stderr",
     "output_type": "stream",
     "text": [
      "loadNodeFromFile `returnNode` argument is deprecated. Loaded node is now returned directly if `returnNode` is not specified.\n"
     ]
    },
    {
     "name": "stdout",
     "output_type": "stream",
     "text": [
      "Registration is completed\n",
      "mni-registration\n",
      "[[  2.41751884 -47.33490549  46.52314124]\n",
      " [ 32.88383481   4.59215623  68.15171532]\n",
      " [  4.18460517  30.65485451  68.30166297]\n",
      " [  9.91555059   4.42421895  47.40993443]]\n",
      "save target mni to native space\n",
      "16\n",
      "load dicom E:\\Test_data_set\\S56\\56_crop_T1.nii\n",
      "push image to volumenode\n",
      "Volume registration is started in working directory: C:/Users/User/AppData/Local/Temp/Slicer/Elastix/20211206_183846_845\n",
      "Register volumes...\n"
     ]
    },
    {
     "name": "stderr",
     "output_type": "stream",
     "text": [
      "toVTKString is deprecated! Conversion is no longer necessary.\n"
     ]
    },
    {
     "name": "stdout",
     "output_type": "stream",
     "text": [
      "Register volumes using: C:\\Users\\User\\AppData\\Roaming\\NA-MIC\\Extensions-29402\\SlicerElastix\\lib\\Slicer-4.11\\elastix.exe: ['-f', 'C:/Users/User/AppData/Local/Temp/Slicer/Elastix/20211206_183846_845\\\\input\\\\fixed.mha', '-m', 'C:/Users/User/AppData/Local/Temp/Slicer/Elastix/20211206_183846_845\\\\input\\\\moving.mha', '-out', 'C:/Users/User/AppData/Local/Temp/Slicer/Elastix/20211206_183846_845\\\\result-transform', '-p', 'C:\\\\Users\\\\User\\\\AppData\\\\Roaming\\\\NA-MIC\\\\Extensions-29402\\\\SlicerElastix\\\\lib\\\\Slicer-4.11\\\\qt-scripted-modules\\\\Resources\\\\RegistrationParameters\\\\Parameters_Rigid.txt', '-p', 'C:\\\\Users\\\\User\\\\AppData\\\\Roaming\\\\NA-MIC\\\\Extensions-29402\\\\SlicerElastix\\\\lib\\\\Slicer-4.11\\\\qt-scripted-modules\\\\Resources\\\\RegistrationParameters\\\\Parameters_BSpline.txt']\n",
      "Show volume rendering of node result_15\n",
      "Show volume rendering of node Node_17\n",
      "Show volume rendering of node Volume_16\n"
     ]
    },
    {
     "name": "stderr",
     "output_type": "stream",
     "text": [
      "Traceback (most recent call last):\n",
      "  File \"C:/Users/User/AppData/Roaming/NA-MIC/Extensions-29402/NvidiaAIAssistedAnnotation/lib/Slicer-4.11/qt-scripted-modules/.slicerrc.py\", line 13, in <lambda>\n",
      "    qt.QTimer.singleShot(10, lambda: showVolumeRendering(node))\n",
      "  File \"C:/Users/User/AppData/Roaming/NA-MIC/Extensions-29402/NvidiaAIAssistedAnnotation/lib/Slicer-4.11/qt-scripted-modules/.slicerrc.py\", line 20, in showVolumeRendering\n",
      "    scalarRange = volumeNode.GetImageData().GetScalarRange()\n",
      "AttributeError: 'NoneType' object has no attribute 'GetScalarRange'\n"
     ]
    },
    {
     "name": "stdout",
     "output_type": "stream",
     "text": [
      "Generate output...\n",
      "Generate output using: C:\\Users\\User\\AppData\\Roaming\\NA-MIC\\Extensions-29402\\SlicerElastix\\lib\\Slicer-4.11\\transformix.exe: ['-tp', 'C:/Users/User/AppData/Local/Temp/Slicer/Elastix/20211206_183846_845\\\\result-transform/TransformParameters.1.txt', '-out', 'C:/Users/User/AppData/Local/Temp/Slicer/Elastix/20211206_183846_845\\\\result-resample', '-in', 'C:/Users/User/AppData/Local/Temp/Slicer/Elastix/20211206_183846_845\\\\input\\\\moving.mha', '-def', 'all']\n"
     ]
    },
    {
     "name": "stderr",
     "output_type": "stream",
     "text": [
      "loadNodeFromFile `returnNode` argument is deprecated. Loaded node is now returned directly if `returnNode` is not specified.\n"
     ]
    },
    {
     "name": "stdout",
     "output_type": "stream",
     "text": [
      "Registration is completed\n",
      "mni-registration\n",
      "[[  6.027796   -39.03546022  36.33074429]\n",
      " [ 29.92025498  16.79112914  67.06258867]\n",
      " [ -2.12100196  38.07362342  68.35035355]\n",
      " [  8.39586659  17.37620667  37.48943598]]\n",
      "save target mni to native space\n",
      "17\n",
      "load dicom E:\\Test_data_set\\S57\\57_crop_T1.nii\n",
      "push image to volumenode\n",
      "Volume registration is started in working directory: C:/Users/User/AppData/Local/Temp/Slicer/Elastix/20211206_183920_712\n",
      "Register volumes...\n"
     ]
    },
    {
     "name": "stderr",
     "output_type": "stream",
     "text": [
      "toVTKString is deprecated! Conversion is no longer necessary.\n"
     ]
    },
    {
     "name": "stdout",
     "output_type": "stream",
     "text": [
      "Register volumes using: C:\\Users\\User\\AppData\\Roaming\\NA-MIC\\Extensions-29402\\SlicerElastix\\lib\\Slicer-4.11\\elastix.exe: ['-f', 'C:/Users/User/AppData/Local/Temp/Slicer/Elastix/20211206_183920_712\\\\input\\\\fixed.mha', '-m', 'C:/Users/User/AppData/Local/Temp/Slicer/Elastix/20211206_183920_712\\\\input\\\\moving.mha', '-out', 'C:/Users/User/AppData/Local/Temp/Slicer/Elastix/20211206_183920_712\\\\result-transform', '-p', 'C:\\\\Users\\\\User\\\\AppData\\\\Roaming\\\\NA-MIC\\\\Extensions-29402\\\\SlicerElastix\\\\lib\\\\Slicer-4.11\\\\qt-scripted-modules\\\\Resources\\\\RegistrationParameters\\\\Parameters_Rigid.txt', '-p', 'C:\\\\Users\\\\User\\\\AppData\\\\Roaming\\\\NA-MIC\\\\Extensions-29402\\\\SlicerElastix\\\\lib\\\\Slicer-4.11\\\\qt-scripted-modules\\\\Resources\\\\RegistrationParameters\\\\Parameters_BSpline.txt']\n",
      "Show volume rendering of node result_16\n",
      "Show volume rendering of node Node_18\n",
      "Show volume rendering of node Volume_17\n"
     ]
    },
    {
     "name": "stderr",
     "output_type": "stream",
     "text": [
      "Traceback (most recent call last):\n",
      "  File \"C:/Users/User/AppData/Roaming/NA-MIC/Extensions-29402/NvidiaAIAssistedAnnotation/lib/Slicer-4.11/qt-scripted-modules/.slicerrc.py\", line 13, in <lambda>\n",
      "    qt.QTimer.singleShot(10, lambda: showVolumeRendering(node))\n",
      "  File \"C:/Users/User/AppData/Roaming/NA-MIC/Extensions-29402/NvidiaAIAssistedAnnotation/lib/Slicer-4.11/qt-scripted-modules/.slicerrc.py\", line 20, in showVolumeRendering\n",
      "    scalarRange = volumeNode.GetImageData().GetScalarRange()\n",
      "AttributeError: 'NoneType' object has no attribute 'GetScalarRange'\n"
     ]
    },
    {
     "name": "stdout",
     "output_type": "stream",
     "text": [
      "Generate output...\n",
      "Generate output using: C:\\Users\\User\\AppData\\Roaming\\NA-MIC\\Extensions-29402\\SlicerElastix\\lib\\Slicer-4.11\\transformix.exe: ['-tp', 'C:/Users/User/AppData/Local/Temp/Slicer/Elastix/20211206_183920_712\\\\result-transform/TransformParameters.1.txt', '-out', 'C:/Users/User/AppData/Local/Temp/Slicer/Elastix/20211206_183920_712\\\\result-resample', '-in', 'C:/Users/User/AppData/Local/Temp/Slicer/Elastix/20211206_183920_712\\\\input\\\\moving.mha', '-def', 'all']\n"
     ]
    },
    {
     "name": "stderr",
     "output_type": "stream",
     "text": [
      "loadNodeFromFile `returnNode` argument is deprecated. Loaded node is now returned directly if `returnNode` is not specified.\n"
     ]
    },
    {
     "name": "stdout",
     "output_type": "stream",
     "text": [
      "Registration is completed\n",
      "mni-registration\n",
      "[[ 12.78786387 -35.53464033  42.98322056]\n",
      " [ 40.50847927  15.68824192  74.47041281]\n",
      " [  3.32701757  34.96124057  74.39932175]\n",
      " [ 13.02560621  15.44370074  47.983141  ]]\n",
      "save target mni to native space\n",
      "18\n",
      "load dicom E:\\Test_data_set\\S58\\58_crop_T1.nii\n",
      "push image to volumenode\n",
      "Volume registration is started in working directory: C:/Users/User/AppData/Local/Temp/Slicer/Elastix/20211206_183953_594\n",
      "Register volumes...\n"
     ]
    },
    {
     "name": "stderr",
     "output_type": "stream",
     "text": [
      "toVTKString is deprecated! Conversion is no longer necessary.\n"
     ]
    },
    {
     "name": "stdout",
     "output_type": "stream",
     "text": [
      "Register volumes using: C:\\Users\\User\\AppData\\Roaming\\NA-MIC\\Extensions-29402\\SlicerElastix\\lib\\Slicer-4.11\\elastix.exe: ['-f', 'C:/Users/User/AppData/Local/Temp/Slicer/Elastix/20211206_183953_594\\\\input\\\\fixed.mha', '-m', 'C:/Users/User/AppData/Local/Temp/Slicer/Elastix/20211206_183953_594\\\\input\\\\moving.mha', '-out', 'C:/Users/User/AppData/Local/Temp/Slicer/Elastix/20211206_183953_594\\\\result-transform', '-p', 'C:\\\\Users\\\\User\\\\AppData\\\\Roaming\\\\NA-MIC\\\\Extensions-29402\\\\SlicerElastix\\\\lib\\\\Slicer-4.11\\\\qt-scripted-modules\\\\Resources\\\\RegistrationParameters\\\\Parameters_Rigid.txt', '-p', 'C:\\\\Users\\\\User\\\\AppData\\\\Roaming\\\\NA-MIC\\\\Extensions-29402\\\\SlicerElastix\\\\lib\\\\Slicer-4.11\\\\qt-scripted-modules\\\\Resources\\\\RegistrationParameters\\\\Parameters_BSpline.txt']\n",
      "Show volume rendering of node result_17\n",
      "Show volume rendering of node Node_19\n",
      "Show volume rendering of node Volume_18\n"
     ]
    },
    {
     "name": "stderr",
     "output_type": "stream",
     "text": [
      "Traceback (most recent call last):\n",
      "  File \"C:/Users/User/AppData/Roaming/NA-MIC/Extensions-29402/NvidiaAIAssistedAnnotation/lib/Slicer-4.11/qt-scripted-modules/.slicerrc.py\", line 13, in <lambda>\n",
      "    qt.QTimer.singleShot(10, lambda: showVolumeRendering(node))\n",
      "  File \"C:/Users/User/AppData/Roaming/NA-MIC/Extensions-29402/NvidiaAIAssistedAnnotation/lib/Slicer-4.11/qt-scripted-modules/.slicerrc.py\", line 20, in showVolumeRendering\n",
      "    scalarRange = volumeNode.GetImageData().GetScalarRange()\n",
      "AttributeError: 'NoneType' object has no attribute 'GetScalarRange'\n"
     ]
    },
    {
     "name": "stdout",
     "output_type": "stream",
     "text": [
      "Generate output...\n",
      "Generate output using: C:\\Users\\User\\AppData\\Roaming\\NA-MIC\\Extensions-29402\\SlicerElastix\\lib\\Slicer-4.11\\transformix.exe: ['-tp', 'C:/Users/User/AppData/Local/Temp/Slicer/Elastix/20211206_183953_594\\\\result-transform/TransformParameters.1.txt', '-out', 'C:/Users/User/AppData/Local/Temp/Slicer/Elastix/20211206_183953_594\\\\result-resample', '-in', 'C:/Users/User/AppData/Local/Temp/Slicer/Elastix/20211206_183953_594\\\\input\\\\moving.mha', '-def', 'all']\n"
     ]
    },
    {
     "name": "stderr",
     "output_type": "stream",
     "text": [
      "loadNodeFromFile `returnNode` argument is deprecated. Loaded node is now returned directly if `returnNode` is not specified.\n"
     ]
    },
    {
     "name": "stdout",
     "output_type": "stream",
     "text": [
      "Registration is completed\n",
      "mni-registration\n",
      "[[  8.82149579 -43.20634308  24.26274907]\n",
      " [ 38.34328711   3.96805258  62.55022157]\n",
      " [  5.20734297  31.66730641  59.83747671]\n",
      " [ 14.39446405   7.37188521  30.36956673]]\n",
      "save target mni to native space\n",
      "Show volume rendering of node result_18\n"
     ]
    }
   ],
   "source": [
    "scene = slicer.mrmlScene\n",
    "sub_path_list = sorted(glob.glob(os.path.join(root_dir, 'S*')))\n",
    "print(len(sub_path_list))\n",
    "i=0\n",
    "\n",
    "mni_image = load_nii(mni_path)\n",
    "MNI_node = su.PushVolumeToSlicer(mni_image)\n",
    "\n",
    "for sub_path in sub_path_list:\n",
    "    try:\n",
    "        sub_name = sub_path.split(\"\\\\\")[-1].split(\"_\")[0]\n",
    "       \n",
    "        print(i)\n",
    "        i+=1\n",
    "\n",
    "        T1_path = glob.glob(os.path.join(sub_path, '*crop_T1.nii'))[0]\n",
    "        T1_image = load_nii(T1_path)\n",
    "        print('load dicom', T1_path) \n",
    "\n",
    "        #sitk image to VolumeNode\n",
    "        T1_node = su.PushVolumeToSlicer(T1_image)\n",
    "        print('push image to volumenode')\n",
    "\n",
    "        MNI_registeredNode, MNI_transformNode = registration_elastix(T1_node , MNI_node)\n",
    "        print('mni-registration')\n",
    "        \n",
    "        target_np = TransformMarkups(MNI_transformNode)\n",
    "\n",
    "        sub_name = sub_path.split(\"\\\\\")[-1].split(\"_\")[0]\n",
    "        save_path = os.path.join(sub_path)\n",
    "\n",
    "        if not os.path.exists(save_path):\n",
    "            os.makedirs(save_path)\n",
    "            print(save_path)\n",
    "            \n",
    "            \n",
    "        V1 = str('{:.3f}'.format(target_np[0][0]) + ' {:.3f}'.format(target_np[0][1]) + ' {:.3f}'.format(target_np[0][2]))\n",
    "        f = open(os.path.join(save_path, 'target_V1_MNI.txt'), 'w')\n",
    "        f.write(V1)\n",
    "        f.close()\n",
    "               \n",
    "        M1 = str('{:.3f}'.format(target_np[1][0]) + ' {:.3f}'.format(target_np[1][1]) + ' {:.3f}'.format(target_np[1][2]))\n",
    "        f = open(os.path.join(save_path, 'target_M1_MNI.txt'), 'w')\n",
    "        f.write(M1)\n",
    "\n",
    "        \n",
    "        Dorsal_ACC = str('{:.3f}'.format(target_np[2][0]) + ' {:.3f}'.format(target_np[2][1]) + ' {:.3f}'.format(target_np[2][2]))\n",
    "        f = open(os.path.join(save_path, 'target_DorsalACCUp5.txt'), 'w')\n",
    "        f.write(Dorsal_ACC)\n",
    "        f.close()\n",
    "\n",
    "        Thalamus = str('{:.3f}'.format(target_np[3][0]) + ' {:.3f}'.format(target_np[3][1]) + ' {:.3f}'.format(target_np[3][2]))\n",
    "        f = open(os.path.join(save_path, 'target_Thalamus.txt'), 'w')\n",
    "        f.write(Thalamus)\n",
    "        f.close()\n",
    "\n",
    "        \n",
    "        print('save target mni to native space')\n",
    "\n",
    "        #clear\n",
    "\n",
    "        slicer.mrmlScene.RemoveNode(T1_node)\n",
    "        slicer.mrmlScene.RemoveNode(MNI_transformNode)\n",
    "        slicer.mrmlScene.RemoveNode(MNI_registeredNode)\n",
    "        \n",
    "        \n",
    "    except Exception as e: \n",
    "        print(e)\n",
    "        print(sub_path, 'wrong')\n",
    "        continue"
   ]
  },
  {
   "cell_type": "code",
   "execution_count": 13,
   "metadata": {},
   "outputs": [
    {
     "name": "stdout",
     "output_type": "stream",
     "text": [
      "19\n"
     ]
    },
    {
     "ename": "RuntimeError",
     "evalue": "Exception thrown in SimpleITK ImageFileReader_Execute: D:\\D\\S\\Slicer-0-build\\ITK\\Modules\\IO\\NIFTI\\src\\itkNiftiImageIO.cxx:1025:\nitk::ERROR: itk::ERROR: NiftiImageIO(000001B76805B2B0): C:\\Users\\User\\AppData\\Local\\NA-MIC\\Slicer 4.11.20200930\\mni_icbm152_t1_tal_nlin_asym_09a.nii is not recognized as a NIFTI file",
     "output_type": "error",
     "traceback": [
      "\u001b[0;31m---------------------------------------------------------------------------\u001b[0m\n\u001b[0;31mRuntimeError\u001b[0m                              Traceback (most recent call last)",
      "In  \u001b[0;34m[13]\u001b[0m:\nLine \u001b[0;34m6\u001b[0m:     \n",
      "In  \u001b[0;34m[5]\u001b[0m:\nLine \u001b[0;34m6\u001b[0m:     \n",
      "File \u001b[0;34mC:\\Users\\User\\AppData\\Local\\NA-MIC\\Slicer 4.11.20200930\\lib\\Python\\lib\\site-packages\\simpleitk-2.0.0-py3.6-win-amd64.egg\\SimpleITK\\SimpleITK.py\u001b[0m, in \u001b[0;32mExecute\u001b[0m:\nLine \u001b[0;34m5779\u001b[0m:  \u001b[34mreturn\u001b[39;49;00m _SimpleITK.ImageFileReader_Execute(\u001b[36mself\u001b[39;49;00m)\n",
      "\u001b[0;31mRuntimeError\u001b[0m: Exception thrown in SimpleITK ImageFileReader_Execute: D:\\D\\S\\Slicer-0-build\\ITK\\Modules\\IO\\NIFTI\\src\\itkNiftiImageIO.cxx:1025:\nitk::ERROR: itk::ERROR: NiftiImageIO(000001B76805B2B0): C:\\Users\\User\\AppData\\Local\\NA-MIC\\Slicer 4.11.20200930\\mni_icbm152_t1_tal_nlin_asym_09a.nii is not recognized as a NIFTI file\n\u001b[0;31m---------------------------------------------------------------------------\u001b[0m"
     ]
    },
    {
     "name": "stdout",
     "output_type": "stream",
     "text": [
      "Show volume rendering of node mni_icbm152_t1_tal_nlin_asym_09a\n"
     ]
    }
   ],
   "source": [
    "scene = slicer.mrmlScene\n",
    "sub_path_list = sorted(glob.glob(os.path.join(root_dir, 'S*')))\n",
    "print(len(sub_path_list))\n",
    "i=0\n",
    "\n",
    "mni_image = load_nii(mni_path)\n",
    "MNI_node = su.PushVolumeToSlicer(mni_image)\n",
    "\n",
    "for sub_path in sub_path_list:\n",
    "    try:\n",
    "        sub_name = sub_path.split(\"\\\\\")[-1].split(\"_\")[0]\n",
    "       \n",
    "        print(i)\n",
    "        i+=1\n",
    "\n",
    "        T1_path = glob.glob(os.path.join(sub_path, '*crop_T1.nii'))[0]\n",
    "        T1_image = load_nii(T1_path)\n",
    "        print('load dicom', T1_path) \n",
    "\n",
    "        #sitk image to VolumeNode\n",
    "        T1_node = su.PushVolumeToSlicer(T1_image)\n",
    "        print('push image to volumenode')\n",
    "\n",
    "        MNI_registeredNode, MNI_transformNode = registration_elastix(T1_node , MNI_node)\n",
    "        print('mni-registration')\n",
    "        \n",
    "        target_np = TransformMarkups(MNI_transformNode)\n",
    "\n",
    "        sub_name = sub_path.split(\"\\\\\")[-1].split(\"_\")[0]\n",
    "        save_path = os.path.join(sub_path)\n",
    "\n",
    "        if not os.path.exists(save_path):\n",
    "            os.makedirs(save_path)\n",
    "            print(save_path)\n",
    "            \n",
    "            \n",
    "        V1 = str('{:.3f}'.format(target_np[0][0]) + ' {:.3f}'.format(target_np[0][1]) + ' {:.3f}'.format(target_np[0][2]))\n",
    "        f = open(os.path.join(save_path, 'target_V1_MNI.txt'), 'w')\n",
    "        f.write(V1)\n",
    "        f.close()\n",
    "               \n",
    "        M1 = str('{:.3f}'.format(target_np[1][0]) + ' {:.3f}'.format(target_np[1][1]) + ' {:.3f}'.format(target_np[1][2]))\n",
    "        f = open(os.path.join(save_path, 'target_M1_MNI.txt'), 'w')\n",
    "        f.write(M1)\n",
    "\n",
    "        \n",
    "        Dorsal_ACC = str('{:.3f}'.format(target_np[2][0]) + ' {:.3f}'.format(target_np[2][1]) + ' {:.3f}'.format(target_np[2][2]))\n",
    "        f = open(os.path.join(save_path, 'target_DorsalACCUp5.txt'), 'w')\n",
    "        f.write(Dorsal_ACC)\n",
    "        f.close()\n",
    "        \n",
    "        print('save target mni to native space')\n",
    "\n",
    "        #clear\n",
    "\n",
    "        slicer.mrmlScene.RemoveNode(T1_node)\n",
    "        slicer.mrmlScene.RemoveNode(MNI_transformNode)\n",
    "        slicer.mrmlScene.RemoveNode(MNI_registeredNode)\n",
    "        \n",
    "        \n",
    "    except Exception as e: \n",
    "        print(e)\n",
    "        print(sub_path, 'wrong')\n",
    "        continue"
   ]
  },
  {
   "cell_type": "code",
   "execution_count": null,
   "metadata": {},
   "outputs": [],
   "source": [
    "mni_icbm152_t1_tal_nlin_asym_09a.nii"
   ]
  },
  {
   "cell_type": "code",
   "execution_count": null,
   "metadata": {},
   "outputs": [],
   "source": []
  },
  {
   "cell_type": "code",
   "execution_count": null,
   "metadata": {},
   "outputs": [],
   "source": []
  }
 ],
 "metadata": {
  "kernelspec": {
   "display_name": "Slicer 4.11",
   "language": "python",
   "name": "slicer-4.11"
  },
  "language_info": {
   "file_extension": ".py",
   "mimetype": "text/x-python",
   "name": "python",
   "version": "3.6.7"
  }
 },
 "nbformat": 4,
 "nbformat_minor": 4
}
